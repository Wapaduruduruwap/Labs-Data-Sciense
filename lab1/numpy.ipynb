{
 "cells": [
  {
   "cell_type": "markdown",
   "metadata": {
    "id": "vC84e9kzyxPy"
   },
   "source": [
    "<h1>Импорт библиотек"
   ]
  },
  {
   "cell_type": "code",
   "execution_count": 7,
   "metadata": {
    "id": "cgKeNegmQG5S"
   },
   "outputs": [],
   "source": [
    "import numpy as np\n",
    "import matplotlib.pyplot as plt"
   ]
  },
  {
   "cell_type": "markdown",
   "metadata": {
    "id": "qFM9uVU2x4Ls"
   },
   "source": [
    "<h1>Задача 1. Дан набор из $p$ матриц размерностью $(n, n)$ и $p$ векторов размерностью $(n, 1)$, найти сумму произведений матриц на векторы. Написать тесты для кода"
   ]
  },
  {
   "cell_type": "code",
   "execution_count": 11,
   "metadata": {
    "id": "IAbUvEiYyWFF"
   },
   "outputs": [
    {
     "name": "stdout",
     "output_type": "stream",
     "text": [
      "Тест 1: [14 22] (Ожидаемый результат: [21, 49])\n",
      "Тест 2: [7 8] (Ожидаемый результат: [14, 14])\n",
      "Тест 3: [2 2] (Ожидаемый результат: [2, 2])\n"
     ]
    }
   ],
   "source": [
    "def sum_prod(X, V):\n",
    "    '''\n",
    "    X - матрицы (n, n)\n",
    "    V - векторы (n, 1)\n",
    "    Гарантируется, что len(X) == len(V)\n",
    "    '''\n",
    "    result = np.zeros_like(V[0])  # Инициализируем результат нулевым вектором\n",
    "\n",
    "    for matrix, vector in zip(X, V):\n",
    "        # Умножаем матрицу на вектор и добавляем к результату\n",
    "        result += np.dot(matrix, vector)\n",
    "    return result\n",
    "\n",
    "def test_sum_prod():\n",
    "    X = [np.array([[1, 2], [3, 4]]), np.array([[5, 6], [7, 8]])]\n",
    "    V = [np.array([[1], [1]]), np.array([[1], [1]])]\n",
    "    result = sum_prod(X, V)\n",
    "    print(f\"Тест 1: {result.flatten()} (Ожидаемый результат: [21, 49])\")\n",
    "\n",
    "    X = [np.array([[1, 0], [0, 1]]), np.array([[2, 2], [2, 2]])]\n",
    "    V = [np.array([[3], [4]]), np.array([[1], [1]])]\n",
    "    result = sum_prod(X, V)\n",
    "    print(f\"Тест 2: {result.flatten()} (Ожидаемый результат: [14, 14])\")\n",
    "\n",
    "    X = [np.array([[0, 0], [0, 0]]), np.array([[1, 1], [1, 1]])]\n",
    "    V = [np.array([[1], [1]]), np.array([[1], [1]])]\n",
    "    result = sum_prod(X, V)\n",
    "    print(f\"Тест 3: {result.flatten()} (Ожидаемый результат: [2, 2])\")\n",
    "\n",
    "def main():\n",
    "    # Запуск тестов\n",
    "    test_sum_prod()\n",
    "\n",
    "if __name__ == \"__main__\":\n",
    "    main()"
   ]
  },
  {
   "cell_type": "markdown",
   "metadata": {
    "id": "TKwPG4fIy2w4"
   },
   "source": [
    "<h1>Задача 2. Дана матрица M, напишите функцию, которая бинаризует матрицу по некоторому threshold (то есть, все значения большие threshold становятся равными 1, иначе 0). Напишите тесты для кода"
   ]
  },
  {
   "cell_type": "code",
   "execution_count": null,
   "metadata": {},
   "outputs": [],
   "source": [
    "import unittest\n",
    "\n",
    "def binarize_matrix(matrix, threshold=0.5):\n",
    "    # Создаем новую матрицу того же размера, что и исходная\n",
    "    rows = len(matrix)\n",
    "    cols = len(matrix[0])\n",
    "    \n",
    "    binary_matrix = [[0 for _ in range(cols)] for _ in range(rows)]\n",
    "    \n",
    "    # Проходим по всем элементам матрицы и бинаризуем их\n",
    "    for i in range(rows):\n",
    "        for j in range(cols):\n",
    "            if matrix[i][j] >= threshold:\n",
    "                binary_matrix[i][j] = 1\n",
    "            else:\n",
    "                binary_matrix[i][j] = 0\n",
    "\n",
    "    return binary_matrix\n",
    "\n",
    "class TestBinarization(unittest.TestCase):\n",
    "    def test_binarize_matrix_with_threshold_05(self):\n",
    "        # Тестовый случай 1: Простая квадратная матрица\n",
    "        matrix_1 = [\n",
    "            [0.3, 0.7, 0.9],\n",
    "            [0.1, 0.55, 0.65],\n",
    "            [0.45, 0.85, 0.95]\n",
    "        ]\n",
    "        \n",
    "        expected_result_1 = [\n",
    "            [0, 1, 1],\n",
    "            [0, 1, 1],\n",
    "            [0, 1, 1]\n",
    "        ]\n",
    "\n",
    "        result_1 = binarize_matrix(matrix_1, threshold=0.5)\n",
    "        self.assertEqual(result_1, expected_result_1)\n",
    "\n",
    "        # Тестовый случай 2: Прямоугольная матрица\n",
    "        matrix_2 = [\n",
    "            [-0.1, -0.2, 0.3, 0.4],\n",
    "            [-0.5, 0.6, 0.7, 0.8],\n",
    "            [0.35, 0.15, -0.75, 0.62]\n",
    "        ]\n",
    "\n",
    "        expected_result_2 = [\n",
    "            [0, 0, 1, 1],\n",
    "            [0, 1, 1, 1],\n",
    "            [1, 0, 0, 1]\n",
    "        ]\n",
    "\n",
    "        result_2 = binarize_matrix(matrix_2, threshold=0.5)\n",
    "        self.assertEqual(result_2, expected_result_2)\n",
    "\n",
    "if __name__ == '__main__':\n",
    "    unittest.main()"
   ]
  },
  {
   "cell_type": "markdown",
   "metadata": {
    "id": "IY5L-h-7zWhN"
   },
   "source": [
    "<h1>Задача 3. Напишите функцию, которая возвращает уникальные элементы из каждой строки матрицы. Напишите такую же функцию, но для столбцов. Напишите тесты для кода"
   ]
  },
  {
   "cell_type": "code",
   "execution_count": 23,
   "metadata": {
    "id": "-8dEZhR0SBC-"
   },
   "outputs": [
    {
     "name": "stderr",
     "output_type": "stream",
     "text": [
      "E\n",
      "======================================================================\n",
      "ERROR: C:\\Users\\User\\AppData\\Roaming\\jupyter\\runtime\\kernel-53fd013f-7e97-4b92-a9f9-c5b369439c4f (unittest.loader._FailedTest.C:\\Users\\User\\AppData\\Roaming\\jupyter\\runtime\\kernel-53fd013f-7e97-4b92-a9f9-c5b369439c4f)\n",
      "----------------------------------------------------------------------\n",
      "AttributeError: module '__main__' has no attribute 'C:\\Users\\User\\AppData\\Roaming\\jupyter\\runtime\\kernel-53fd013f-7e97-4b92-a9f9-c5b369439c4f'\n",
      "\n",
      "----------------------------------------------------------------------\n",
      "Ran 1 test in 0.002s\n",
      "\n",
      "FAILED (errors=1)\n"
     ]
    },
    {
     "ename": "SystemExit",
     "evalue": "True",
     "output_type": "error",
     "traceback": [
      "An exception has occurred, use %tb to see the full traceback.\n",
      "\u001b[1;31mSystemExit\u001b[0m\u001b[1;31m:\u001b[0m True\n"
     ]
    },
    {
     "name": "stderr",
     "output_type": "stream",
     "text": [
      "C:\\Users\\User\\anaconda3\\anAconda\\Lib\\site-packages\\IPython\\core\\interactiveshell.py:3561: UserWarning: To exit: use 'exit', 'quit', or Ctrl-D.\n",
      "  warn(\"To exit: use 'exit', 'quit', or Ctrl-D.\", stacklevel=1)\n"
     ]
    }
   ],
   "source": [
    "import unittest\n",
    "\n",
    "def unique_elements_in_columns(matrix):\n",
    "    transposed_matrix = list(zip(*matrix))\n",
    "    return [list(set(col)) for col in transposed_matrix]\n",
    "\n",
    "class TestUniqueElements(unittest.TestCase):\n",
    "    def setUp(self):\n",
    "        self.matrix = [\n",
    "            [1, 2, 3, 4, 1],\n",
    "            [5, 6, 7, 8, 5],\n",
    "            [9, 10, 11, 12, 13]\n",
    "        ]\n",
    "\n",
    "    def test_unique_elements_in_rows(self):\n",
    "        expected_result = [\n",
    "            [1, 2, 3, 4],\n",
    "            [5, 6, 7, 8],\n",
    "            [9, 10, 11, 12, 13]\n",
    "        ]\n",
    "        actual_result = unique_elements_in_rows(self.matrix)\n",
    "        self.assertEqual(expected_result, actual_result)\n",
    "\n",
    "    def test_unique_elements_in_columns(self):\n",
    "        expected_result = [\n",
    "            [1, 5, 9],\n",
    "            [2, 6, 10],\n",
    "            [3, 7, 11],\n",
    "            [4, 8, 12],\n",
    "            [1, 5, 13]\n",
    "        ]\n",
    "        actual_result = unique_elements_in_columns(self.matrix)\n",
    "        self.assertEqual(expected_result, actual_result)\n",
    "\n",
    "if __name__ == '__main__':\n",
    "    unittest.main()"
   ]
  },
  {
   "cell_type": "markdown",
   "metadata": {
    "id": "roYAlo4Jz-lH"
   },
   "source": [
    "<h1>Задача 4. Напишите функцию, которая заполняет матрицу с размерами $(m, n)$ случайными числами, распределенными по нормальному закону. Затем считает мат. ожидание и дисперсию для каждого из столбцов и строк, а также строит для каждой строки и столбца гистограмму значений (использовать функцию hist из модуля matplotlib.plot)"
   ]
  },
  {
   "cell_type": "code",
   "execution_count": null,
   "metadata": {
    "id": "nZK_71hMSQzv"
   },
   "outputs": [],
   "source": [
    "# Your code goes here"
   ]
  },
  {
   "cell_type": "markdown",
   "metadata": {
    "id": "BDyATNdM0dJ2"
   },
   "source": [
    "<h1>Задача 5. Напишите функцию, которая заполняет матрицу $(m, n)$ в шахматном порядке заданными числами $a$ и $b$. Напишите тесты для кода"
   ]
  },
  {
   "cell_type": "code",
   "execution_count": 16,
   "metadata": {
    "id": "RWNJYWQGecS6"
   },
   "outputs": [],
   "source": [
    "def chess(m, n, a, b):\n",
    "    '''\n",
    "    Заполняет матрицу размером m x n в шахматном порядке числами a и b.\n",
    "    \n",
    "    Параметры:\n",
    "    m : int\n",
    "        Количество строк в матрице.\n",
    "    n : int\n",
    "        Количество столбцов в матрице.\n",
    "    a : any\n",
    "        Число для черных клеток.\n",
    "    b : any\n",
    "        Число для белых клеток.\n",
    "        \n",
    "    Возвращает:\n",
    "    np.ndarray\n",
    "        Заполненная матрица.\n",
    "    '''\n",
    "    matrix = np.empty((m, n), dtype=object)\n",
    "    \n",
    "    for i in range(m):\n",
    "        for j in range(n):\n",
    "            if (i + j) % 2 == 0:\n",
    "                matrix[i, j] = a\n",
    "            else:\n",
    "                matrix[i, j] = b\n",
    "                \n",
    "    return matrix\n",
    "\n",
    "def test_chess():\n",
    "    # Тест 1: Простая матрица 3x3\n",
    "    expected1 = np.array([[1, 2, 1], \n",
    "                          [2, 1, 2], \n",
    "                          [1, 2, 1]])\n",
    "    result1 = chess(3, 3, 1, 2)\n",
    "    assert np.array_equal(result1, expected1), f\"Ошибка в тесте 1: {result1} != {expected1}\"\n",
    "\n",
    "    # Тест 2: Матрица 4x4\n",
    "    expected2 = np.array([[1, 2, 1, 2], \n",
    "                          [2, 1, 2, 1], \n",
    "                          [1, 2, 1, 2], \n",
    "                          [2, 1, 2, 1]])\n",
    "    result2 = chess(4, 4, 1, 2)\n",
    "    assert np.array_equal(result2, expected2), f\"Ошибка в тесте 2: {result2} != {expected2}\"\n",
    "\n",
    "    # Тест 3: Матрица 2x5\n",
    "    expected3 = np.array([[1, 2, 1, 2, 1], \n",
    "                          [2, 1, 2, 1, 2]])\n",
    "    result3 = chess(2, 5, 1, 2)\n",
    "    assert np.array_equal(result3, expected3), f\"Ошибка в тесте 3: {result3} != {expected3}\"\n",
    "\n",
    "    # Тест 4: Матрица 1x1\n",
    "    expected4 = np.array([[1]])\n",
    "    result4 = chess(1, 1, 1, 2)\n",
    "    assert np.array_equal(result4, expected4), f\"Ошибка в тесте 4: {result4} != {expected4}\"\n",
    "\n",
    "def main():\n",
    "    # Запуск тестов\n",
    "    test_chess()\n",
    "\n",
    "if __name__ == \"__main__\":\n",
    "    main()"
   ]
  },
  {
   "cell_type": "markdown",
   "metadata": {
    "id": "-ymXLtTN0vB6"
   },
   "source": [
    "<h1>Задача 6. Напишите функцию, которая отрисовывает прямоугольник с заданными размерами (a, b) на изображении размера (m, n), цвет фона задайте в схеме RGB, как и цвет прямоугольника. Цвета также должны быть параметрами функции. Напишите аналогичную функцию но для овала с полуосями a и b. Напишите тесты для кода.\n",
    "Примечание: уравнение эллипса (границы овала) можно записать как:\n",
    "<h1>$\\frac{(x-x_0)^2}{a^2}+\\frac{(y-y_0)^2}{b^2}=1$"
   ]
  },
  {
   "cell_type": "code",
   "execution_count": 17,
   "metadata": {
    "id": "sNfl1t_kfOF4"
   },
   "outputs": [
    {
     "data": {
      "image/png": "[encoded data removed]",
      "text/plain": [
       "<Figure size 640x480 with 1 Axes>"
      ]
     },
     "metadata": {},
     "output_type": "display_data"
    },
    {
     "data": {
      "image/png": "[encoded data removed]",
      "text/plain": [
       "<Figure size 640x480 with 1 Axes>"
      ]
     },
     "metadata": {},
     "output_type": "display_data"
    }
   ],
   "source": [
    "def draw_rectangle(a, b, m, n, rectangle_color, background_color):\n",
    "    '''\n",
    "    Отрисовывает прямоугольник на изображении заданного размера.\n",
    "    \n",
    "    Параметры:\n",
    "    a : int\n",
    "        Ширина прямоугольника.\n",
    "    b : int\n",
    "        Высота прямоугольника.\n",
    "    m : int\n",
    "        Высота изображения.\n",
    "    n : int\n",
    "        Ширина изображения.\n",
    "    rectangle_color : tuple\n",
    "        Цвет прямоугольника в формате RGB.\n",
    "    background_color : tuple\n",
    "        Цвет фона в формате RGB.\n",
    "        \n",
    "    Возвращает:\n",
    "    np.ndarray\n",
    "        Изображение с прямоугольником.\n",
    "    '''\n",
    "    # Создаем изображение с фоновым цветом\n",
    "    image = np.zeros((m, n, 3), dtype=np.uint8)\n",
    "    image[:] = background_color\n",
    "\n",
    "    # Устанавливаем цвет прямоугольника\n",
    "    x_start = (n - a) // 2\n",
    "    y_start = (m - b) // 2\n",
    "    x_end = x_start + a\n",
    "    y_end = y_start + b\n",
    "\n",
    "    # Заполняем прямоугольник цветом\n",
    "    image[y_start:y_end, x_start:x_end] = rectangle_color\n",
    "\n",
    "    return image\n",
    "\n",
    "def draw_ellipse(a, b, m, n, ellipse_color, background_color):\n",
    "    '''\n",
    "    Отрисовывает овал на изображении заданного размера.\n",
    "    \n",
    "    Параметры:\n",
    "    a : int\n",
    "        Полуось по горизонтали (ширина овала).\n",
    "    b : int\n",
    "        Полуось по вертикали (высота овала).\n",
    "    m : int\n",
    "        Высота изображения.\n",
    "    n : int\n",
    "        Ширина изображения.\n",
    "    ellipse_color : tuple\n",
    "        Цвет овала в формате RGB.\n",
    "    background_color : tuple\n",
    "        Цвет фона в формате RGB.\n",
    "        \n",
    "    Возвращает:\n",
    "    np.ndarray\n",
    "        Изображение с овалом.\n",
    "    '''\n",
    "    # Создаем изображение с фоновым цветом\n",
    "    image = np.zeros((m, n, 3), dtype=np.uint8)\n",
    "    image[:] = background_color\n",
    "\n",
    "    # Рисуем овал\n",
    "    y, x = np.ogrid[:m, :n]\n",
    "    center_x, center_y = n // 2, m // 2\n",
    "    mask = ((x - center_x) ** 2) / (a ** 2) + ((y - center_y) ** 2) / (b ** 2) <= 1\n",
    "\n",
    "    # Устанавливаем цвет овала\n",
    "    image[mask] = ellipse_color\n",
    "\n",
    "    return image\n",
    "\n",
    "def test_shapes():\n",
    "    # Тест 1: Прямоугольник\n",
    "    rect_color = (255, 0, 0)  # Красный\n",
    "    bg_color = (255, 255, 255)  # Белый\n",
    "    rect_image = draw_rectangle(100, 50, 200, 200, rect_color, bg_color)\n",
    "\n",
    "    plt.imshow(rect_image)\n",
    "    plt.title(\"Прямоугольник\")\n",
    "    plt.axis('off')\n",
    "    plt.show()\n",
    "\n",
    "    # Тест 2: Овал\n",
    "    ellipse_color = (0, 255, 0)  # Зеленый\n",
    "    ellipse_image = draw_ellipse(80, 40, 200, 200, ellipse_color, bg_color)\n",
    "\n",
    "    plt.imshow(ellipse_image)\n",
    "    plt.title(\"Овал\")\n",
    "    plt.axis('off')\n",
    "    plt.show()\n",
    "\n",
    "def main():\n",
    "    # Запуск тестов\n",
    "    test_shapes()\n",
    "\n",
    "if __name__ == \"__main__\":\n",
    "    main()"
   ]
  },
  {
   "cell_type": "markdown",
   "metadata": {
    "id": "S82c38oz244H"
   },
   "source": [
    "<h1>Задача 7. Дан некий временной ряд. Для данного ряда нужно найти его: математическое ожидание, дисперсию, СКО, найти все локальные максимумы и минимумы (локальный максимум - это точка, которая больше своих соседних точек, а локальный минимум - это точка, которая меньше своих соседей), а также вычислить для данного ряда другой ряд, получаемый методом скользящего среднего с размером окна $p$.\n",
    "<h1>Примечание: метод скользящего среднего подразумевает нахождение среднего из подмножетсва ряда размером $p$"
   ]
  },
  {
   "cell_type": "code",
   "execution_count": 20,
   "metadata": {
    "id": "Zb9mIVge5MMt"
   },
   "outputs": [
    {
     "name": "stdout",
     "output_type": "stream",
     "text": [
      "Mean: 16.4\n",
      "Variance: 17.155555555555555\n",
      "Standard Deviation: 4.141926551202418\n",
      "Local Maxima:\n",
      "Date\n",
      "2024-01-03    15\n",
      "2024-01-07    20\n",
      "2024-01-09    22\n",
      "Name: Value, dtype: int64\n",
      "Local Minima:\n",
      "Date\n",
      "2024-01-05    13\n",
      "2024-01-08    19\n",
      "Name: Value, dtype: int64\n",
      "Moving Average:\n",
      "Date\n",
      "2024-01-01          NaN\n",
      "2024-01-02          NaN\n",
      "2024-01-03    12.333333\n",
      "2024-01-04    13.666667\n",
      "2024-01-05    14.000000\n",
      "2024-01-06    15.000000\n",
      "2024-01-07    17.000000\n",
      "2024-01-08    19.000000\n",
      "2024-01-09    20.333333\n",
      "2024-01-10    20.666667\n",
      "Name: Value, dtype: float64\n"
     ]
    },
    {
     "data": {
      "image/png": "[encoded data removed]",
      "text/plain": [
       "<Figure size 1200x600 with 1 Axes>"
      ]
     },
     "metadata": {},
     "output_type": "display_data"
    }
   ],
   "source": [
    "import pandas as pd\n",
    "import numpy as np\n",
    "import matplotlib.pyplot as plt\n",
    "\n",
    "# Sample time series data\n",
    "data = {\n",
    "    'Date': pd.date_range(start='2024-01-01', periods=10, freq='D'),\n",
    "    'Value': [10, 12, 15, 14, 13, 18, 20, 19, 22, 21]\n",
    "}\n",
    "df = pd.DataFrame(data)\n",
    "df.set_index('Date', inplace=True)\n",
    "\n",
    "# 1. Calculate Mean\n",
    "mean_value = df['Value'].mean()\n",
    "\n",
    "# 2. Calculate Variance\n",
    "variance_value = df['Value'].var()\n",
    "\n",
    "# 3. Calculate Standard Deviation\n",
    "std_dev_value = df['Value'].std()\n",
    "\n",
    "# 4. Calculate Local Maxima and Minima\n",
    "local_maxima = df['Value'][(df['Value'].shift(1) < df['Value']) & (df['Value'].shift(-1) < df['Value'])]\n",
    "local_minima = df['Value'][(df['Value'].shift(1) > df['Value']) & (df['Value'].shift(-1) > df['Value'])]\n",
    "\n",
    "# 5. Calculate Moving Average (e.g., 3-day moving average)\n",
    "moving_average = df['Value'].rolling(window=3).mean()\n",
    "\n",
    "# Display results\n",
    "print(f\"Mean: {mean_value}\")\n",
    "print(f\"Variance: {variance_value}\")\n",
    "print(f\"Standard Deviation: {std_dev_value}\")\n",
    "print(f\"Local Maxima:\\n{local_maxima}\")\n",
    "print(f\"Local Minima:\\n{local_minima}\")\n",
    "print(f\"Moving Average:\\n{moving_average}\")\n",
    "\n",
    "# Plotting the results\n",
    "plt.figure(figsize=(12, 6))\n",
    "plt.plot(df['Value'], label='Original Data', marker='o')\n",
    "plt.plot(moving_average, label='3-Day Moving Average', linestyle='--')\n",
    "plt.scatter(local_maxima.index, local_maxima, color='red', label='Local Maxima')\n",
    "plt.scatter(local_minima.index, local_minima, color='green', label='Local Minima')\n",
    "plt.title('Time Series Analysis')\n",
    "plt.xlabel('Date')\n",
    "plt.ylabel('Value')\n",
    "plt.legend()\n",
    "plt.show()"
   ]
  },
  {
   "cell_type": "markdown",
   "metadata": {
    "id": "jPkylmOX5O9n"
   },
   "source": [
    "<h1> Задача 8. Дан некоторый вектор с целочисленными метками классов, напишите функцию, которая выполняет one-hot-encoding для данного вектора\n",
    "<h1> One-hot-encoding - представление, в котором на месте метки некоторого класса стоит 1, в остальных позициях стоит 0. Например для вектора [0, 2, 3, 0] one-hot-encoding выглядит как: [[1, 0, 0, 0], [0, 0, 1, 0], [0, 0, 0, 1], [1, 0, 0, 0]]"
   ]
  },
  {
   "cell_type": "code",
   "execution_count": 21,
   "metadata": {
    "id": "Y-jlnZvw56lD"
   },
   "outputs": [
    {
     "name": "stdout",
     "output_type": "stream",
     "text": [
      "One-Hot Encoded Result:\n",
      "[[1. 0. 0.]\n",
      " [0. 1. 0.]\n",
      " [0. 0. 1.]\n",
      " [0. 1. 0.]\n",
      " [1. 0. 0.]]\n"
     ]
    }
   ],
   "source": [
    "import numpy as np\n",
    "\n",
    "def one_hot_encode(labels):\n",
    "    \"\"\"\n",
    "    Perform one-hot encoding on a vector of integer class labels.\n",
    "\n",
    "    Parameters:\n",
    "    labels (list or np.array): A list or array of integer class labels.\n",
    "\n",
    "    Returns:\n",
    "    np.array: A 2D array where each row is the one-hot encoded representation of the input labels.\n",
    "    \"\"\"\n",
    "    # Convert labels to a numpy array for easier manipulation\n",
    "    labels = np.array(labels)\n",
    "    \n",
    "    # Find the number of unique classes\n",
    "    num_classes = np.max(labels) + 1  # Assuming labels are 0-indexed\n",
    "    \n",
    "    # Create a 2D array of zeros with shape (number of labels, number of classes)\n",
    "    one_hot_encoded = np.zeros((labels.size, num_classes))\n",
    "    \n",
    "    # Set the appropriate indices to 1\n",
    "    one_hot_encoded[np.arange(labels.size), labels] = 1\n",
    "    \n",
    "    return one_hot_encoded\n",
    "\n",
    "# Example usage\n",
    "labels = [0, 1, 2, 1, 0]\n",
    "one_hot_result = one_hot_encode(labels)\n",
    "\n",
    "print(\"One-Hot Encoded Result:\")\n",
    "print(one_hot_result)"
   ]
  },
  {
   "cell_type": "code",
   "execution_count": null,
   "metadata": {},
   "outputs": [],
   "source": []
  }
 ],
 "metadata": {
  "colab": {
   "provenance": []
  },
  "kernelspec": {
   "display_name": "Python 3 (ipykernel)",
   "language": "python",
   "name": "python3"
  },
  "language_info": {
   "codemirror_mode": {
    "name": "ipython",
    "version": 3
   },
   "file_extension": ".py",
   "mimetype": "text/x-python",
   "name": "python",
   "nbconvert_exporter": "python",
   "pygments_lexer": "ipython3",
   "version": "3.11.7"
  }
 },
 "nbformat": 4,
 "nbformat_minor": 4
}
