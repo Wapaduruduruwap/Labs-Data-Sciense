{
 "cells": [
  {
   "cell_type": "markdown",
   "metadata": {
    "id": "M-DGa20PaHnu"
   },
   "source": [
    "#Задача 1\n",
    "Написать функцию на вход которой подается строка, состоящая из латинских букв.\n",
    "Функция должна вернуть количество гласных букв (a, e, i, o, u) в этой строке. Написать тесты для кода"
   ]
  },
  {
   "cell_type": "code",
   "execution_count": 7,
   "metadata": {
    "id": "XvX8X_JJ6PCb"
   },
   "outputs": [
    {
     "name": "stdout",
     "output_type": "stream",
     "text": [
      "2\n",
      "1\n",
      "5\n"
     ]
    }
   ],
   "source": [
    "def count_vowels(s):\n",
    "    vowels = set('aeiouAEIOU')\n",
    "    return sum(1 for char in s if char in vowels)\n",
    "\n",
    "#Тестовые случаи\n",
    "print(count_vowels(\"lego\"))\n",
    "print(count_vowels(\"world\"))\n",
    "print(count_vowels(\"AEIOU\"))"
   ]
  },
  {
   "cell_type": "markdown",
   "metadata": {
    "id": "t2ClV_Y0bbr6"
   },
   "source": [
    "# Задача 2\n",
    "Написать функцию на вход, которой подается строка. Функция должна вернуть true, если\n",
    "каждый символ в строке встречается только 1 раз, иначе должна вернуть false. Написать тесты для кода"
   ]
  },
  {
   "cell_type": "code",
   "execution_count": 8,
   "metadata": {
    "id": "FppbECao6VIz"
   },
   "outputs": [
    {
     "name": "stdout",
     "output_type": "stream",
     "text": [
      "Тест пройден: abcdef -> ожидаемый результат True\n",
      "Тест пройден: abcdea -> ожидаемый результат False\n",
      "Тест пройден:  -> ожидаемый результат True\n"
     ]
    }
   ],
   "source": [
    "def is_unique_chars(s):\n",
    "    seen = set()\n",
    "    \n",
    "    for char in s:\n",
    "        if char in seen:\n",
    "            return False\n",
    "        seen.add(char)\n",
    "    return True\n",
    "\n",
    "def is_unique_chars(s):\n",
    "    seen = set()\n",
    "    for char in s:\n",
    "        if char in seen:\n",
    "            return False\n",
    "        seen.add(char)\n",
    "    return True\n",
    "\n",
    "# Тестовые случаи\n",
    "test_cases = [\n",
    "    {\"input\": \"abcdef\", \"expected\": True},\n",
    "    {\"input\": \"abcdea\", \"expected\": False},\n",
    "    {\"input\": \"\", \"expected\": True}\n",
    "]\n",
    "\n",
    "for case in test_cases:\n",
    "    result = is_unique_chars(case[\"input\"])\n",
    "    if result != case[\"expected\"]:\n",
    "        print(f\"Тест не пройден: {case['input']} -> ожидалось {case['expected']}, получено {result}\")\n",
    "    else:\n",
    "        print(f\"Тест пройден: {case['input']} -> ожидаемый результат {case['expected']}\")"
   ]
  },
  {
   "cell_type": "markdown",
   "metadata": {
    "id": "udRiIK1cdt6E"
   },
   "source": [
    "# Задача 3\n",
    "Написать функцию, которая принимает положительное число и возвращает количество\n",
    "бит равных 1 в этом числе. Написать тесты для кода"
   ]
  },
  {
   "cell_type": "code",
   "execution_count": 11,
   "metadata": {
    "id": "6tkfDJRz6dp_"
   },
   "outputs": [
    {
     "name": "stdout",
     "output_type": "stream",
     "text": [
      "0\n",
      "1\n",
      "10\n"
     ]
    }
   ],
   "source": [
    "def count_bits(n):\n",
    "    if n < 0:\n",
    "        raise ValueError(\"Input must be a positive integer.\")\n",
    "    return bin(n).count('1')\n",
    "\n",
    "#Тесты\n",
    "print(count_bits(0))\n",
    "print( count_bits(1))\n",
    "print( count_bits(1023))"
   ]
  },
  {
   "cell_type": "markdown",
   "metadata": {
    "id": "26dDUz-Ae17N"
   },
   "source": [
    "# Задача 4\n",
    "Написать функцию, которая принимает положительное число. Функция должна вернуть то,\n",
    "сколько раз необходимо перемножать цифры числа или результат перемножения, чтобы\n",
    "получилось число состоящее из одной цифры.\n",
    "Например, для входного числа:\n",
    "· 39 функция должна вернуть 3, так как 3*9=27 => 2*7=14 => 1*4=4\n",
    "· 4 функция должна вернуть 0, так как число уже состоит из одной цифры\n",
    "· 999 функция должна вернуть 4, так как 9*9*9=729 => 7*2*9=126 => 1*2*6=12 =>\n",
    "1*2=2. Написать тесты для кода"
   ]
  },
  {
   "cell_type": "code",
   "execution_count": 13,
   "metadata": {
    "id": "BH1A_Mgi6i4G"
   },
   "outputs": [
    {
     "name": "stdout",
     "output_type": "stream",
     "text": [
      "3\n",
      "0\n",
      "4\n"
     ]
    }
   ],
   "source": [
    "def magic(number):\n",
    "    steps = 0\n",
    "    while number >= 10:\n",
    "        result = 1\n",
    "        while number > 0:\n",
    "            digit = number % 10\n",
    "            result *= digit\n",
    "            number //= 10\n",
    "        number = result\n",
    "        steps += 1\n",
    "    return steps\n",
    "\n",
    "print(magic(39))\n",
    "print(magic(4))\n",
    "print(magic(999))"
   ]
  },
  {
   "cell_type": "markdown",
   "metadata": {
    "id": "0nS-kIa8g8vd"
   },
   "source": [
    "# Задача 5\n",
    "Написать функцию, которая принимает два целочисленных вектора одинаковой длины и\n",
    "возвращает среднеквадратическое отклонение двух векторов. Написать тесты для кода"
   ]
  },
  {
   "cell_type": "code",
   "execution_count": 17,
   "metadata": {
    "id": "8iphx4LM6xbx"
   },
   "outputs": [
    {
     "name": "stdout",
     "output_type": "stream",
     "text": [
      "0.0\n",
      "11.0\n",
      "100.0\n"
     ]
    }
   ],
   "source": [
    "def mse(pred, true):\n",
    "    if len(pred) != len(true):\n",
    "        raise ValueError(\"Vectors must be of the same length\")\n",
    "    # Вычисляем квадраты разностей для каждого элемента и усредняем\n",
    "    squared_errors = [(p - t) ** 2 for p, t in zip(pred, true)]\n",
    "    return sum(squared_errors) / len(pred)\n",
    "# Тесты\n",
    "print(mse([1, 2, 3], [1, 2, 3]))\n",
    "print(mse([10, 20, 30], [15, 22, 28]))\n",
    "print(mse([100, 200, 300], [90, 210, 290]))"
   ]
  },
  {
   "cell_type": "markdown",
   "metadata": {
    "id": "vpIPKL439zkw"
   },
   "source": [
    "# Задача 6\n",
    "Написать функцию, принимающая целое положительное число. Функция должна вернуть\n",
    "строку вида “(n1**p1)(n2**p2)…(nk**pk)” представляющая разложение числа на простые\n",
    "множители (если pi == 1, то выводить только ni).\n",
    "Например, для числа 86240 функция должна вернуть “(2**5)(5)(7**2)(11)”. Написать тесты для кода"
   ]
  },
  {
   "cell_type": "code",
   "execution_count": 19,
   "metadata": {
    "id": "pFebmcZk94Jw"
   },
   "outputs": [
    {
     "name": "stdout",
     "output_type": "stream",
     "text": [
      "(13**2)\n",
      "(3)(79)\n",
      "(5)\n"
     ]
    }
   ],
   "source": [
    "#Определяем простые множители\n",
    "def prime_factors(n):\n",
    "    if n <= 0:\n",
    "        raise ValueError(\"Input must be a positive integer.\")\n",
    "    i = 2\n",
    "    factors = {}\n",
    "     # Находим простые множители и их количество\n",
    "    while i * i <= n:\n",
    "        while (n % i) == 0:\n",
    "            if i in factors:\n",
    "                factors[i] += 1\n",
    "            else:\n",
    "                factors[i] = 1\n",
    "            n //= i\n",
    "        i += 1\n",
    "    if n > 1:\n",
    "        factors[n] = 1\n",
    "    return factors\n",
    "\n",
    "def format_factors(factors):\n",
    "    result = []\n",
    "    for prime, count in factors.items():\n",
    "        if count == 1:\n",
    "            result.append(f\"({prime})\")\n",
    "        else:\n",
    "            result.append(f\"({prime}**{count})\")\n",
    "    return ''.join(result)\n",
    "\n",
    "def factor_decomposition(n):\n",
    "    factors = prime_factors(n)\n",
    "    return format_factors(factors)\n",
    "\n",
    "print(factor_decomposition(169))\n",
    "print(factor_decomposition(237))\n",
    "print(factor_decomposition(5))"
   ]
  },
  {
   "cell_type": "markdown",
   "metadata": {
    "id": "ps2s0BudX7A2"
   },
   "source": [
    "# Задача 7\n",
    "Написать функцию, принимающая целое число n, задающее количество кубиков. Функция\n",
    "должна определить, можно ли из данного кол-ва кубиков построить пирамиду, то есть\n",
    "можно ли представить число n как 1^2+2^2+3^2+…+k^2. Если можно, то функция должна\n",
    "вернуть k, иначе строку “It is impossible”. Написать тесты для кода"
   ]
  },
  {
   "cell_type": "code",
   "execution_count": 22,
   "metadata": {
    "id": "3YPjEXxhX_YT"
   },
   "outputs": [
    {
     "name": "stdout",
     "output_type": "stream",
     "text": [
      "3\n",
      "It is impossible\n",
      "2\n"
     ]
    }
   ],
   "source": [
    "def pyramid(number):\n",
    "    if number < 1:\n",
    "        return \"It is impossible\"\n",
    "    \n",
    "    k = 1\n",
    "    sum_of_squares = 0\n",
    "    \n",
    "    while sum_of_squares < number:\n",
    "        sum_of_squares += k ** 2\n",
    "        if sum_of_squares == number:\n",
    "            return k\n",
    "        k += 1\n",
    "    \n",
    "    return \"It is impossible\"\n",
    "\n",
    "print(pyramid(14))  # 1^2 + 2^2 + 3^2 = 14\n",
    "print(pyramid(15))# Невозможно построить пирамиду  \n",
    "print(pyramid(5))# 1^2 + 2^2 = 5"
   ]
  },
  {
   "cell_type": "markdown",
   "metadata": {
    "id": "KeKgmIdAQMEJ"
   },
   "source": [
    "# Задача 8\n",
    "Функция принимает на вход положительное число и определяет является ли оно сбалансированным, т.е. сумма цифр до средних равна сумме цифр после. Средними в случае нечетного числа цифр считать одну цифру, в случае четного - две средних. Написать тесты для кода"
   ]
  },
  {
   "cell_type": "code",
   "execution_count": 27,
   "metadata": {
    "id": "gMAAqtqlQrZt"
   },
   "outputs": [
    {
     "name": "stdout",
     "output_type": "stream",
     "text": [
      "True\n",
      "False\n",
      "True\n"
     ]
    }
   ],
   "source": [
    "def is_balanced_number(n):\n",
    "    # Преобразуем число в строку для работы с его цифрами\n",
    "    str_n = str(n)\n",
    "    length = len(str_n)\n",
    "    \n",
    "    # Определяем индексы средних цифр\n",
    "    if length % 2 == 0:  # четное количество цифр\n",
    "        mid1 = length // 2 - 1\n",
    "        mid2 = length // 2\n",
    "        left_sum = sum(int(digit) for digit in str_n[:mid1 + 1])\n",
    "        right_sum = sum(int(digit) for digit in str_n[mid2:])\n",
    "    else:  # нечетное количество цифр\n",
    "        mid = length // 2\n",
    "        left_sum = sum(int(digit) for digit in str_n[:mid])\n",
    "        right_sum = sum(int(digit) for digit in str_n[mid + 1:])\n",
    "    \n",
    "    # Сравниваем суммы\n",
    "    return left_sum == right_sum\n",
    "\n",
    "# Тесты\n",
    "print(is_balanced_number(123321))# 1 + 2 = 3, 3 + 2 + 1 = 3\n",
    "print(is_balanced_number(123456))# 1 + 2 + 3 != 4 + 5 + 6\n",
    "print(is_balanced_number(12321))# 1 + 2 = 2"
   ]
  },
  {
   "cell_type": "code",
   "execution_count": null,
   "metadata": {},
   "outputs": [],
   "source": []
  }
 ],
 "metadata": {
  "colab": {
   "provenance": []
  },
  "kernelspec": {
   "display_name": "Python 3 (ipykernel)",
   "language": "python",
   "name": "python3"
  },
  "language_info": {
   "codemirror_mode": {
    "name": "ipython",
    "version": 3
   },
   "file_extension": ".py",
   "mimetype": "text/x-python",
   "name": "python",
   "nbconvert_exporter": "python",
   "pygments_lexer": "ipython3",
   "version": "3.11.7"
  }
 },
 "nbformat": 4,
 "nbformat_minor": 4
}
